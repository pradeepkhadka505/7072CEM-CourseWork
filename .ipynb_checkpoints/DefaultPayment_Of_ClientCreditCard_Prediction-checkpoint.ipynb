{
 "cells": [
  {
   "cell_type": "markdown",
   "id": "f267f427-c4af-4812-8cb1-948b945cd770",
   "metadata": {},
   "source": [
    "### Client credit card default payment prediction using differnt supervised classification Algorithms\n",
    "\n",
    "####  About Default Payment \n",
    "\n",
    "Credit default occurs when a borrower fails to repay a debt obligation, leading to financial losses for lenders. Predicting defaults using machine learning helps banks and financial institutions assess risk and minimize potential losses.\n",
    "\n",
    "#### Problem of the Statement\n",
    "\n",
    "The objective of eveloping model is to predict weather credit card payment next month default or not from the prospective of risk management. The datasets consist of serveral credict history predicator (Independent) variable and one target variable, default payment next month.\n",
    "\n",
    "#### Descriptions\n",
    "The \"Default of Credit Card Clients\" dataset from UCI contains 30,000 records of Taiwanese credit card users, predicting payment defaults. It includes 23 features such as:\n",
    "\n",
    "Key columns: LIMIT_BAL (credit limit), SEX, EDUCATION, MARRIAGE, AGE, PAY_0-PAY_6 (payment history), BILL_AMT1-BILL_AMT6 (billing amounts), and PAY_AMT1-PAY_AMT6 (payment amounts). The target variable is default.payment.next.month (binary: 1 = default, 0 = no default).\n",
    "\n",
    "The dataset is imbalanced, with 6,636 defaults (22.1%) and 23,364 non-defaults (77.9%), making it useful for classification and risk modeling.\n",
    "\n",
    "##### For prediction we require dataset, here we have datasets which is downloded from UCI Machine Learning Dataset \n",
    "\n",
    "Datasets Link = https://archive.ics.uci.edu/static/public/350/default+of+credit+card+clients.zip"
   ]
  },
  {
   "cell_type": "markdown",
   "id": "632076e0-1afa-4cb4-84e0-2e8b95826548",
   "metadata": {},
   "source": [
    "#### Step1:  Install All Required Python Package "
   ]
  },
  {
   "cell_type": "code",
   "execution_count": null,
   "id": "5cc9c122-78a7-4db2-a78f-1e9e8496523c",
   "metadata": {},
   "outputs": [],
   "source": [
    "import zipfile\n",
    "import requests\n",
    "# python Libraries for\n",
    "import numpy as np\n",
    "import pandas as pd\n",
    "import matplotlib.pyplot as plt\n",
    "import seaborn as sns\n",
    "#for avoiding warnings\n",
    "import warnings \n",
    "warnings.filterwarnings('ignore')\n",
    "#python feature scalling standard library\n",
    "from sklearn.preprocessing import StandardScaler\n",
    "#Pca\n",
    "from sklearn.decomposition import PCA\n",
    "#train and test split library\n",
    "from sklearn.model_selection import train_test_split\n",
    "#standard library for confusion-matrix, roc-auc-score and curve, classificaion Report of Model\n",
    "from sklearn.metrics import classification_report, confusion_matrix, roc_auc_score, roc_curve\n",
    "#sklearn logistic regressing model\n",
    "from sklearn.linear_model import LogisticRegression\n",
    "#TrainScore and trainScore of linear Regression (train=80% & test -20%)\n",
    "from sklearn.metrics import accuracy_score\n",
    "#i have imported here KNeighborsClassifier form sklearn library\n",
    "from sklearn.neighbors import KNeighborsClassifier\n",
    "#Naive Bays \n",
    "from sklearn.naive_bayes import GaussianNB\n",
    "#Ensemble Classifer (Random Forest Classifer)\n",
    "from sklearn.ensemble import RandomForestClassifier\n"
   ]
  },
  {
   "cell_type": "markdown",
   "id": "4d9b1eea-6d14-4044-867b-a5df00fd099f",
   "metadata": {},
   "source": [
    "#### Step-2: Download datasets using Url "
   ]
  },
  {
   "cell_type": "code",
   "execution_count": null,
   "id": "27de5d53-65f2-46d2-9b7d-b92fe8c15f5e",
   "metadata": {},
   "outputs": [],
   "source": [
    "# Direct Link to download the dataset fro UCI Repo\n",
    "url ='https://archive.ics.uci.edu/static/public/350/default+of+credit+card+clients.zip'\n",
    "dataset_zip = \"default_of_credit_card_clients.zip\"\n",
    "\n",
    "# Download the zip file\n",
    "response = requests.get(url)\n",
    "with open(dataset_zip, \"wb\") as file:\n",
    "    file.write(response.content)\n",
    "\n",
    "# Code to extract the dataset\n",
    "with zipfile.ZipFile(dataset_zip, 'r') as zip_ref:\n",
    "    zip_ref.extractall(\"default_of_credit_card_clients\")\n",
    "    \n",
    "#loading dataset from extract folder\n",
    "extract_folder = \"default_of_credit_card_clients/default of credit card clients.xls\"\n",
    "print(extract_folder)"
   ]
  },
  {
   "cell_type": "code",
   "execution_count": null,
   "id": "5823117f-907e-41be-9b20-884f8227563a",
   "metadata": {},
   "outputs": [],
   "source": [
    "#Code to covnvert excel files into CSV files \n",
    "# Path to the XLS file\n",
    "xls_file = \"default_of_credit_card_clients/default of credit card clients.xls\"\n",
    "# Load the XLS file into a DataFrame\n",
    "df = pd.read_excel(xls_file, header=1)  # Skip the first row with general info\n",
    "#Specify the output CSV file path\n",
    "csv_file = \"default_of_credit_card_clients/default_of_credit_card_clients.csv\"\n",
    "# Save the DataFrame to CSV\n",
    "df.to_csv(csv_file, index=False)\n",
    "#loading CSV datasets \n",
    "data = pd.read_csv('default_of_credit_card_clients/default_of_credit_card_clients.csv')"
   ]
  },
  {
   "cell_type": "markdown",
   "id": "023dcd25-ef47-4608-b6eb-db81f45f0dd2",
   "metadata": {},
   "source": [
    "#### Step-3 Exploratory Data analysis "
   ]
  },
  {
   "cell_type": "code",
   "execution_count": null,
   "id": "86760986-5749-4fd8-a8f9-52b97bcd4a4c",
   "metadata": {},
   "outputs": [],
   "source": [
    "data.head()"
   ]
  },
  {
   "cell_type": "code",
   "execution_count": null,
   "id": "e5945e42-e4d3-4d86-a466-b075b038943b",
   "metadata": {},
   "outputs": [],
   "source": [
    "data.shape"
   ]
  },
  {
   "cell_type": "code",
   "execution_count": null,
   "id": "7f7256ee-fcbb-43ad-8e8d-41a0064132e3",
   "metadata": {},
   "outputs": [],
   "source": [
    "data.columns"
   ]
  },
  {
   "cell_type": "code",
   "execution_count": null,
   "id": "8e5eafca-37b2-42f7-adae-45543cc03c17",
   "metadata": {},
   "outputs": [],
   "source": [
    "data.tail(n=5)"
   ]
  },
  {
   "cell_type": "code",
   "execution_count": null,
   "id": "b6115938-ca66-410f-b15d-cf9c228bb59c",
   "metadata": {},
   "outputs": [],
   "source": [
    "print('Stastical view of data :\\n', )\n",
    "data.describe()"
   ]
  },
  {
   "cell_type": "code",
   "execution_count": null,
   "id": "a15535a7-dc68-4d5d-aea3-e0619433fe84",
   "metadata": {},
   "outputs": [],
   "source": [
    "print(data.info())"
   ]
  },
  {
   "cell_type": "markdown",
   "id": "15d32bb3-d7fb-47c0-b67b-013e4296cc84",
   "metadata": {},
   "source": [
    "#### Step-4 Data Cleaning & preprocessing"
   ]
  },
  {
   "cell_type": "code",
   "execution_count": null,
   "id": "4cf89fe5-a8f6-4d9f-b098-ecfd10246b9e",
   "metadata": {},
   "outputs": [],
   "source": [
    "#Columns Name Transformations\n",
    "data.rename(columns={\n",
    "    \"PAY_0\": \"PAY_SEP\", \"PAY_2\": \"PAY_AUG\", \"PAY_3\": \"PAY_JUL\",\n",
    "    \"PAY_4\": \"PAY_JUN\", \"PAY_5\": \"PAY_MAY\", \"PAY_6\": \"PAY_APR\",\n",
    "    \"default payment next month\": \"DEFAULT\"\n",
    "}, inplace=True)\n",
    "\n",
    "#for easy understand and value changes \n",
    "data['EDUCATION'] = data['EDUCATION'].replace({0: 4, 5: 4, 6: 4})\n",
    "data['EDUCATION'] = data['EDUCATION'].map({\n",
    "    1: 'Graduate School',\n",
    "    2: 'University',\n",
    "    3: 'High School',\n",
    "    4: 'Others'\n",
    "})\n",
    "\n",
    "# Recode MARRIAGE categories\n",
    "data['MARRIAGE'] = data['MARRIAGE'].replace({0: 3})\n",
    "data['MARRIAGE'] = data['MARRIAGE'].map({\n",
    "    1: 'Married',\n",
    "    2: 'Single',\n",
    "    3: 'Others'\n",
    "})\n",
    "data.head(20)"
   ]
  },
  {
   "cell_type": "code",
   "execution_count": null,
   "id": "baa7f89c-c730-46f7-9fbe-0768de3008dd",
   "metadata": {},
   "outputs": [],
   "source": [
    "print(data.columns)\n",
    "# Check for duplicates\n",
    "print(\"Number of Duplicate data :\\n\", data.duplicated().sum())"
   ]
  },
  {
   "cell_type": "code",
   "execution_count": null,
   "id": "40239596-a56f-4776-acbf-f443a7118cc3",
   "metadata": {},
   "outputs": [],
   "source": [
    "# Plot the target variable \n",
    "#1- means to fail to make payement\n",
    "#0 means sucessful to pay \n",
    "plt.figure(figsize=(4, 4))\n",
    "sns.countplot(x='DEFAULT', data=data, palette='Set1', hue='DEFAULT')\n",
    "plt.title('Distribution of Default (Target) Variable')\n",
    "plt.xlabel('Default (0 = No, 1 = Yes)')\n",
    "plt.ylabel('Numbers of Client')\n",
    "plt.savefig('./imbalanced_plot.svg')\n",
    "plt.show()\n"
   ]
  },
  {
   "cell_type": "code",
   "execution_count": null,
   "id": "993c2557-df0e-4788-915d-c918d4ff3881",
   "metadata": {},
   "outputs": [],
   "source": [
    "# Drop columns from index 1 to 2\n",
    "clean_data= data.drop(['ID', 'SEX', 'EDUCATION', 'MARRIAGE'], axis=1 )\n",
    "clean_data.head()\n",
    "print(clean_data.isnull().sum())  # Should return 0 for all columns"
   ]
  },
  {
   "cell_type": "code",
   "execution_count": null,
   "id": "502a1423-0af6-4c9b-af6c-7e16481c8d0e",
   "metadata": {},
   "outputs": [],
   "source": [
    "print(clean_data.isnull().sum())  # Should return 0 for all columns"
   ]
  },
  {
   "cell_type": "code",
   "execution_count": null,
   "id": "eab26a93-98cc-4773-9748-5567c82d849e",
   "metadata": {},
   "outputs": [],
   "source": [
    "# Plot the correlation matrix\n",
    "plt.figure(figsize=(12, 8))\n",
    "corr_matrix = clean_data.corr()\n",
    "sns.heatmap(corr_matrix, annot=True, fmt=\".2f\", cmap=\"viridis\", linewidths=0.5)\n",
    "plt.title('Correlation Matrix')\n",
    "plt.show()"
   ]
  },
  {
   "cell_type": "code",
   "execution_count": null,
   "id": "def41c5b-db50-45ee-88cb-8bf0bb41bf34",
   "metadata": {},
   "outputs": [],
   "source": [
    "pair_plot = sns.pairplot(clean_data[['BILL_AMT1','BILL_AMT2','BILL_AMT3','BILL_AMT4',\n",
    "                                     'BILL_AMT5','BILL_AMT6','DEFAULT']], palette='Set1',\n",
    "                         hue='DEFAULT', diag_kind='kde', corner=True)\n",
    "plt.show()"
   ]
  },
  {
   "cell_type": "code",
   "execution_count": null,
   "id": "4cc761be-ce61-4c18-99c8-aff61b2ff266",
   "metadata": {},
   "outputs": [],
   "source": [
    "plt.figure(figsize=(10, 6))\n",
    "pair_plot = sns.pairplot(clean_data[['LIMIT_BAL' ,'DEFAULT']],\n",
    "                         hue='DEFAULT', palette='Set1', diag_kind='kde', corner=True)\n",
    "plt.title('Density plot of LIMIT_BAL by default type')\n",
    "plt.show()"
   ]
  },
  {
   "cell_type": "markdown",
   "id": "deed2ba4-2b32-41b9-80dc-e16e6b5fc669",
   "metadata": {},
   "source": [
    "#### Step 5: Feature Selections and Feature Extractions"
   ]
  },
  {
   "cell_type": "code",
   "execution_count": null,
   "id": "7a443afa-afb2-4005-aac9-ae49e77f644b",
   "metadata": {},
   "outputs": [],
   "source": [
    "\n",
    "# Separate features and target\n",
    "target_value = 'DEFAULT'\n",
    "X = clean_data.drop(target_value, axis=1)\n",
    "y = clean_data[target_value]\n",
    "\n",
    "# Standardize the features (PCA requires standardized on except trage data)\n",
    "scaler = StandardScaler()\n",
    "X_scaled = scaler.fit_transform(X)\n"
   ]
  },
  {
   "cell_type": "markdown",
   "id": "6969c7d6-45ee-490e-829d-8d46605975a5",
   "metadata": {},
   "source": [
    "#### Step 6: Applying  PCA to reduce the dimentions of data "
   ]
  },
  {
   "cell_type": "code",
   "execution_count": null,
   "id": "35cd08af-53d4-4b16-9142-2f2fc08b8358",
   "metadata": {},
   "outputs": [],
   "source": [
    "\n",
    "pca = PCA(n_components=0.95)  # Retain 95% of the variance\n",
    "\n",
    "X_pca = pca.fit_transform(X_scaled)\n",
    "\n",
    "print(f\"Original number of features: {X_scaled.shape[1]}\")\n",
    "# Check the number of components\n",
    "print(f\"Number of components: {pca.n_components_}\")\n"
   ]
  },
  {
   "cell_type": "code",
   "execution_count": null,
   "id": "1b520450-b933-40f3-9fbf-f36733196b8e",
   "metadata": {},
   "outputs": [],
   "source": [
    "# Explained Variance Ratio\n",
    "explained_variance = pca.explained_variance_ratio_\n",
    "print(\"\\nExplained Variance Ratio by Each Principal Component:\")\n",
    "print(explained_variance *100)"
   ]
  },
  {
   "cell_type": "code",
   "execution_count": null,
   "id": "3825cf72-10ce-4db3-8633-2d57c2a3d1e4",
   "metadata": {},
   "outputs": [],
   "source": [
    "#principle Component Analysis\n",
    "plt.figure(figsize=(6, 4))\n",
    "sns.barplot(explained_variance)\n",
    "plt.title(\"Principle Component Analysis\")\n",
    "plt.xlabel(\"Principal component\")\n",
    "plt.ylabel(\"Explained variance ratio\")\n",
    "plt.show()"
   ]
  },
  {
   "cell_type": "code",
   "execution_count": null,
   "id": "8e2af729-7786-41bc-8b27-06294dd36b9a",
   "metadata": {},
   "outputs": [],
   "source": [
    "# Cumulative Explained Variance\n",
    "cumulative_explained_variance = np.cumsum(explained_variance)\n",
    "print(\"\\nCumulative Explained Variance:\")\n",
    "print(cumulative_explained_variance)\n"
   ]
  },
  {
   "cell_type": "code",
   "execution_count": null,
   "id": "c96c1925-2753-49a1-a4d5-9e42017160f9",
   "metadata": {},
   "outputs": [],
   "source": [
    "# Plot Cumulative Explained Variance\n",
    "plt.figure(figsize=(6, 4))\n",
    "plt.plot(range(1, len(cumulative_explained_variance) + 1), cumulative_explained_variance, marker='o')\n",
    "plt.xlabel('Number of Principal Components')\n",
    "plt.ylabel('Cumulative Explained Variance')\n",
    "plt.title('Cumulative Explained Variance by Principal Components')\n",
    "plt.grid()\n",
    "plt.show()"
   ]
  },
  {
   "cell_type": "code",
   "execution_count": null,
   "id": "4b9a420e-da83-4a0c-8c01-8201a6f92cba",
   "metadata": {},
   "outputs": [],
   "source": [
    "#Split the xData into Training and Testing Sets\n",
    "X_train, X_test, y_train, y_test = train_test_split(X_pca, y, test_size=0.2, random_state=42)\n",
    "\n",
    "print('X train value size', X_train.shape)\n",
    "print('y train value size', y_train.shape)\n",
    "print('X_test shape :', X_train.shape)\n",
    "print('y_test shape :', y_test.shape)"
   ]
  },
  {
   "cell_type": "markdown",
   "id": "01eb30e5-8463-46fe-96bc-58038dd37631",
   "metadata": {},
   "source": [
    "#### Step 6:  Model Building \n",
    "##### 1 Logestic Regression"
   ]
  },
  {
   "cell_type": "code",
   "execution_count": null,
   "id": "60d20b97-c67b-482c-839d-e7ce8852ce7f",
   "metadata": {},
   "outputs": [],
   "source": [
    "lr = LogisticRegression(solver='liblinear', multi_class='ovr')\n",
    "lr.fit(X_train , y_train)"
   ]
  },
  {
   "cell_type": "code",
   "execution_count": null,
   "id": "e2c745b9-de74-4b3c-b387-3eae8d8ef495",
   "metadata": {},
   "outputs": [],
   "source": [
    "#logistic regression prediction making\n",
    "lr_predict = lr.predict(X_test)\n",
    "# Probabilities for ROC curve\n",
    "lr_pred_proba = lr.predict_proba(X_test)[:, 1] \n"
   ]
  },
  {
   "cell_type": "code",
   "execution_count": null,
   "id": "f5e96c67-e867-482e-86b3-0666a6451797",
   "metadata": {},
   "outputs": [],
   "source": [
    "#Seaborns heatmap library fror confusion matrix with PCA\n",
    "plt.figure(figsize=(3, 2))\n",
    "sns.heatmap(confusion_matrix(y_test, lr_predict), annot=True, fmt=\"d\", \n",
    "            xticklabels=['No Default', 'Default'],\n",
    "            yticklabels=['No Default', 'Default'])\n",
    "plt.xlabel('Predicted')\n",
    "plt.ylabel('Actual')\n",
    "plt.title('Confusion Matrix Logistic Regression with PCA')\n",
    "plt.show()"
   ]
  },
  {
   "cell_type": "code",
   "execution_count": null,
   "id": "243909b7-3989-4599-8142-33be98e22bf6",
   "metadata": {},
   "outputs": [],
   "source": [
    "print(\"Actual Logistic Regression (Accuracy):\", accuracy_score(y_test, lr_predict)*100) #Actual Predictions"
   ]
  },
  {
   "cell_type": "code",
   "execution_count": null,
   "id": "a11ee748-9d34-4bd7-ba0c-0b188609642d",
   "metadata": {},
   "outputs": [],
   "source": [
    "print(\"Classification Report of Logistic Regression: \\n\", classification_report(y_test, lr_predict,digits=4))"
   ]
  },
  {
   "cell_type": "code",
   "execution_count": null,
   "id": "1e49b858-d4c9-41e4-bdf9-83f4fc2aea48",
   "metadata": {},
   "outputs": [],
   "source": [
    "# AUC-ROC Score\n",
    "auc_score = roc_auc_score(y_test, lr_pred_proba)\n",
    "print(f\"\\nAUC-ROC Score: {auc_score:.4f}\")\n",
    "\n",
    "# Plot ROC Curve\n",
    "fpr, tpr, thresholds = roc_curve(y_test, lr_pred_proba)\n",
    "plt.figure(figsize=(5, 3))\n",
    "plt.plot(fpr, tpr, label=f'Logistic Regression (AUC = {auc_score:.4f})')\n",
    "plt.plot([0, 1], [0, 1], 'k--')  # Diagonal line\n",
    "plt.xlabel('False Positive Rate')\n",
    "plt.ylabel('True Positive Rate')\n",
    "plt.title('ROC Curve Logestic Regression with PCA')\n",
    "plt.legend(loc='lower right')\n",
    "plt.show()"
   ]
  },
  {
   "cell_type": "markdown",
   "id": "2be37ada-c27c-419e-b02b-ed43445e53e7",
   "metadata": {},
   "source": [
    "#### 2. K-Neighbours Network Classifier"
   ]
  },
  {
   "cell_type": "code",
   "execution_count": null,
   "id": "cc356f21-7e04-49f0-9c32-db42983b01bf",
   "metadata": {},
   "outputs": [],
   "source": [
    "knn = KNeighborsClassifier()\n",
    "knn.fit(X_train, y_train)\n"
   ]
  },
  {
   "cell_type": "code",
   "execution_count": null,
   "id": "94b87ba7-adba-4437-8732-e723e11d4772",
   "metadata": {},
   "outputs": [],
   "source": [
    "#making prediction on test by using SVM\n",
    "knn_pred = knn.predict(X_test)\n",
    "knn_pred_proba = knn.predict_proba(X_test)[:, 1]  # Probabilities for ROC curve"
   ]
  },
  {
   "cell_type": "code",
   "execution_count": null,
   "id": "8d66d2ba-a141-415d-abcb-1dae92690f46",
   "metadata": {},
   "outputs": [],
   "source": [
    "# seaborn hitmap to show the vusilize confusion matix \n",
    "plt.figure(figsize=(3, 2))\n",
    "sns.heatmap(confusion_matrix(y_test, knn_pred), annot=True, fmt=\"d\", \n",
    "            xticklabels=['No Default', 'Default'],\n",
    "            yticklabels=['No Default', 'Default'])\n",
    "plt.xlabel('Predicted')\n",
    "plt.ylabel('Actual')\n",
    "plt.title('Confusion Matrix KNN with PCA')\n",
    "plt.show()"
   ]
  },
  {
   "cell_type": "code",
   "execution_count": null,
   "id": "c517e1ec-e556-4e26-88f0-569f2d2f3f71",
   "metadata": {},
   "outputs": [],
   "source": [
    "#for simple print statement \n",
    "print(\"Actual Accuracy score of KNN:\", accuracy_score(y_test, knn_pred)*100) #Actual Prediction"
   ]
  },
  {
   "cell_type": "code",
   "execution_count": null,
   "id": "f0da69e9-9179-47dd-af9d-fd2474574b3a",
   "metadata": {},
   "outputs": [],
   "source": [
    "print(\"Classification Report of K-Neighbors Networks: \\n\", classification_report(y_test, knn_pred,digits=4))"
   ]
  },
  {
   "cell_type": "code",
   "execution_count": null,
   "id": "09ed294d-4290-437f-88ab-adac5b215e51",
   "metadata": {},
   "outputs": [],
   "source": [
    "# AUC-ROC Score\n",
    "auc_score = roc_auc_score(y_test, knn_pred_proba)\n",
    "print(f\"\\nAUC-ROC with PCA Score: {auc_score:.4f}\")"
   ]
  },
  {
   "cell_type": "code",
   "execution_count": null,
   "id": "e74c2f5d-f525-4ea3-a50b-e3d11aff7e7d",
   "metadata": {},
   "outputs": [],
   "source": [
    "# Plot ROC Curve\n",
    "fpr, tpr, thresholds = roc_curve(y_test, knn_pred_proba)\n",
    "plt.figure(figsize=(6, 4))\n",
    "plt.plot(fpr, tpr, label=f'KNN (AUC = {auc_score:.4f})')\n",
    "plt.plot([0, 1], [0, 1], 'k--')  # Diagonal line\n",
    "plt.xlabel('False Positive Rate')\n",
    "plt.ylabel('True Positive Rate')\n",
    "plt.title('ROC Curve (KNN with PCA)')\n",
    "plt.legend(loc='lower right')\n",
    "plt.show()"
   ]
  },
  {
   "cell_type": "markdown",
   "id": "db220507-9468-4c09-b18b-6ab03a89260c",
   "metadata": {},
   "source": [
    "#### 3. Naive Bayes Classifier Algorithms"
   ]
  },
  {
   "cell_type": "code",
   "execution_count": null,
   "id": "b01123ab-ca0a-4efc-8a09-55ab74dcbe92",
   "metadata": {},
   "outputs": [],
   "source": [
    "nb = GaussianNB()\n",
    "nb.fit(X_train, y_train)\n"
   ]
  },
  {
   "cell_type": "code",
   "execution_count": null,
   "id": "9351ba25-b235-48bf-8816-16d29fd34b1c",
   "metadata": {},
   "outputs": [],
   "source": [
    "#making prediction on test by using SVM\n",
    "nb_pred = nb.predict(X_test)\n",
    "nb_pred_proba = nb.predict_proba(X_test)[:, 1]  # Probabilities for ROC curve"
   ]
  },
  {
   "cell_type": "code",
   "execution_count": null,
   "id": "ab0bde10-7814-4e79-bfc0-fdc509e8843a",
   "metadata": {},
   "outputs": [],
   "source": [
    "#seaborn hitmap to show the vusilize confusion matix \n",
    "plt.figure(figsize=(3, 2))\n",
    "sns.heatmap(confusion_matrix(y_test, nb_pred), annot=True, fmt=\"d\", \n",
    "            xticklabels=['No Default', 'Default'],\n",
    "            yticklabels=['No Default', 'Default'])\n",
    "plt.xlabel('Predicted')\n",
    "plt.ylabel('Actual')\n",
    "plt.title('Confusion Matrix (Naive Bays with PCA)')\n",
    "plt.show()"
   ]
  },
  {
   "cell_type": "code",
   "execution_count": null,
   "id": "29c9a388-e4a1-4ec6-ad6f-f4945a86551a",
   "metadata": {},
   "outputs": [],
   "source": [
    "#Accuracy\n",
    "print(\" Actual Accuracy score of Naive Bays:\", accuracy_score(y_test, nb_pred)*100) #Actual Prediction"
   ]
  },
  {
   "cell_type": "code",
   "execution_count": null,
   "id": "1630bc9a-1405-4521-935f-9bb48543ce4f",
   "metadata": {},
   "outputs": [],
   "source": [
    "print(\"Classification Report of Naive Bayes: \\n\", classification_report(y_test, nb_pred,digits=4))"
   ]
  },
  {
   "cell_type": "code",
   "execution_count": null,
   "id": "ab18ab82-6d53-4abc-af14-ab2b64ad3fff",
   "metadata": {},
   "outputs": [],
   "source": [
    "# AUC-ROC Score\n",
    "auc_score = roc_auc_score(y_test, nb_pred_proba)\n",
    "print(f\"\\nAUC-ROC Score with PCA: {auc_score:.4f}\")"
   ]
  },
  {
   "cell_type": "code",
   "execution_count": null,
   "id": "e151b737-90f4-4c29-a4e4-edb984ed6516",
   "metadata": {},
   "outputs": [],
   "source": [
    "# Plot ROC Curve\n",
    "fpr, tpr, thresholds = roc_curve(y_test, nb_pred_proba)\n",
    "plt.figure(figsize=(6, 4))\n",
    "plt.plot(fpr, tpr, label=f'Naive Bayes (AUC = {auc_score:.4f})')\n",
    "plt.plot([0, 1], [0, 1], 'k--')  # Diagonal line\n",
    "plt.xlabel('False Positive Rate')\n",
    "plt.ylabel('True Positive Rate')\n",
    "plt.title('ROC Curve (Naive Bayes with PCA)')\n",
    "plt.legend(loc='lower right')\n",
    "plt.show()"
   ]
  },
  {
   "cell_type": "markdown",
   "id": "70082338-546a-4c33-be3f-11db691841c6",
   "metadata": {},
   "source": [
    "#### 4 : Random Forest Classifier "
   ]
  },
  {
   "cell_type": "code",
   "execution_count": null,
   "id": "fcd42b7f-9c5e-4577-ac9b-26251071b25a",
   "metadata": {},
   "outputs": [],
   "source": [
    "RFC = RandomForestClassifier(n_estimators=100, random_state=42)\n",
    "RFC.fit(X_train, y_train)"
   ]
  },
  {
   "cell_type": "code",
   "execution_count": null,
   "id": "87f1d2aa-6a4e-47bb-b6f9-f7e92a157514",
   "metadata": {},
   "outputs": [],
   "source": [
    "rfc_pred = RFC.predict(X_test)\n",
    "rfc_pred_proba = RFC.predict_proba(X_test)[:, 1]  # Probabilities for ROC curve"
   ]
  },
  {
   "cell_type": "code",
   "execution_count": null,
   "id": "526fc5ed-91ee-44ef-8c83-f7770ae72673",
   "metadata": {},
   "outputs": [],
   "source": [
    "# seaborn hitmap to show the vusilize confusion matix \n",
    "plt.figure(figsize=(3, 2))\n",
    "sns.heatmap(confusion_matrix(y_test, rfc_pred), annot=True, fmt=\"d\", xticklabels=['No Default', 'Default'],yticklabels=['No Default', 'Default'])\n",
    "plt.xlabel('Predicted')\n",
    "plt.ylabel('Actual')\n",
    "plt.title('Confusion Matrix (Random Forest Classifier with PCA)')\n",
    "plt.show()"
   ]
  },
  {
   "cell_type": "code",
   "execution_count": null,
   "id": "8783123c-dc31-4c82-abe0-9f7d7365a5a5",
   "metadata": {},
   "outputs": [],
   "source": [
    "#Accuracy Score\n",
    "print(\"Accuracy score of Random Forest (with PCA):\", accuracy_score(y_test, rfc_pred)*100) #Actual Prediction"
   ]
  },
  {
   "cell_type": "code",
   "execution_count": null,
   "id": "a062b943-76e5-4459-b405-4a6c968055f3",
   "metadata": {},
   "outputs": [],
   "source": [
    "print(\"Classification Report Random Forest : \\n\", classification_report(y_test, rfc_pred,digits=4))"
   ]
  },
  {
   "cell_type": "code",
   "execution_count": null,
   "id": "f9ec8dca-3e7c-4526-94d8-491a5e754576",
   "metadata": {},
   "outputs": [],
   "source": [
    "# AUC-ROC Score\n",
    "auc_score = roc_auc_score(y_test, rfc_pred_proba)\n",
    "print(f\"\\nAUC-ROC Score with PCA: {auc_score:.4f}\")"
   ]
  },
  {
   "cell_type": "code",
   "execution_count": null,
   "id": "c6754e49-b40d-43c6-9151-f67029879040",
   "metadata": {},
   "outputs": [],
   "source": [
    "# Plot ROC Curve\n",
    "fpr, tpr, thresholds = roc_curve(y_test, rfc_pred_proba)\n",
    "plt.figure(figsize=(6, 4))\n",
    "plt.plot(fpr, tpr, label=f'Random forest (AUC = {auc_score:.4f})')\n",
    "plt.plot([0, 1], [0, 1], 'k--')  # Diagonal line\n",
    "plt.xlabel('False Positive Rate')\n",
    "plt.ylabel('True Positive Rate')\n",
    "plt.title('ROC Curve (Random forest classifier with PCA)')\n",
    "plt.legend(loc='lower right')\n",
    "plt.show()"
   ]
  },
  {
   "cell_type": "code",
   "execution_count": null,
   "id": "251a1b66-717e-4a12-8b48-026d73d48b4b",
   "metadata": {},
   "outputs": [],
   "source": [
    "# Plot ROC Curve\n",
    "fpr, tpr, thresholds = roc_curve(y_test, rfc_pred_proba)\n",
    "plt.figure(figsize=(6, 4))\n",
    "plt.plot(fpr, tpr, label=f'Randoms Forest with PCA (AUC = {auc_score:.4f})')\n",
    "plt.plot([0, 1], [0, 1], 'k--')  # Diagonal line\n",
    "plt.xlabel('False Positive Rate')\n",
    "plt.ylabel('True Positive Rate')\n",
    "plt.title('ROC Curve (Naive Bayes with PCA)')\n",
    "plt.legend(loc='lower right')\n",
    "plt.show()\n"
   ]
  },
  {
   "cell_type": "code",
   "execution_count": null,
   "id": "98e52eac-3870-4f0b-bbf9-5fd447450883",
   "metadata": {},
   "outputs": [],
   "source": [
    "Compare = pd.DataFrame(\n",
    "    {'Model':[\"Logistic Regression\", \"K-Neighbours Algorithms\", \"Gaussian Naive Bays\", \"Random Forest Classifier\"],\n",
    "      'Accuracy': [accuracy_score(y_test, lr_predict)*100,accuracy_score(y_test, knn_pred)*100,\n",
    "                         accuracy_score(y_test, nb_pred)*100,  accuracy_score(y_test, rfc_pred)*100 ]\n",
    "            })\n",
    "#Model comparing & gives best model at first \n",
    "Compare.sort_values(by='Accuracy', ascending=False)"
   ]
  },
  {
   "cell_type": "code",
   "execution_count": null,
   "id": "d7d51853-6546-4bb4-b047-622f7943fd57",
   "metadata": {},
   "outputs": [],
   "source": []
  }
 ],
 "metadata": {
  "kernelspec": {
   "display_name": "Python 3 (ipykernel)",
   "language": "python",
   "name": "python3"
  },
  "language_info": {
   "codemirror_mode": {
    "name": "ipython",
    "version": 3
   },
   "file_extension": ".py",
   "mimetype": "text/x-python",
   "name": "python",
   "nbconvert_exporter": "python",
   "pygments_lexer": "ipython3",
   "version": "3.12.7"
  }
 },
 "nbformat": 4,
 "nbformat_minor": 5
}
