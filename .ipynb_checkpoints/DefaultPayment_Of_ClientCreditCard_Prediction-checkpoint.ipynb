{
 "cells": [
  {
   "cell_type": "markdown",
   "id": "f267f427-c4af-4812-8cb1-948b945cd770",
   "metadata": {},
   "source": [
    "### Default Payment predictions of cleint creitcard using python\n",
    "\n",
    "####  About Default Payment \n",
    "\n",
    "A diabetes is a non-communicable but chronic disease which occure whenever the pancreas in longer able to produce insulin in blood or when the body can't make good use of the insulin it produces.\n",
    "\n",
    "#### Problem of the Statement\n",
    "\n",
    "The objective of this developing module is to predict wheter patient has diabetes or not. The datasets consiste of serveral medical predicator (Independent) variable and one target variable, Outcome. Peridicator variables includes pregnancies, Gulcose, Blood pressure, Skin thickness, Onsulin, BMI, DiabetesPedigreeFunction, age & Outcomes.\n",
    "\n",
    "#### Descriptions\n",
    "\n",
    "The aim of this datasets is to predict whether patient has diabete disease or not. The data sets has several medical parameter or predictor variable and core target variable. pridicator variables includes pregnancies, Glucose, Blood Pressure, Skin thockmess, Insulin, BMI, DiabetesPdigreeFunction, age & Outcomes.\n",
    "\n",
    "##### For prediction we require dataset, here we have datasets which is downloded from UCI Machine Learning Dataset \n",
    "\n",
    "Datasets Link = https://archive.ics.uci.edu/static/public/350/default+of+credit+card+clients.zip"
   ]
  },
  {
   "cell_type": "markdown",
   "id": "632076e0-1afa-4cb4-84e0-2e8b95826548",
   "metadata": {},
   "source": [
    "#### Step1:  Install All Required Python Package "
   ]
  },
  {
   "cell_type": "code",
   "execution_count": 21,
   "id": "5cc9c122-78a7-4db2-a78f-1e9e8496523c",
   "metadata": {},
   "outputs": [],
   "source": [
    "import os\n",
    "import zipfile\n",
    "import requests\n",
    "#numpy \n",
    "import numpy as np\n",
    "#pandas \n",
    "import pandas as pd\n",
    "#matplotlib\n",
    "import matplotlib.pyplot as plt\n",
    "#seaborn \n",
    "import seaborn as sns\n",
    "#"
   ]
  },
  {
   "cell_type": "markdown",
   "id": "4d9b1eea-6d14-4044-867b-a5df00fd099f",
   "metadata": {},
   "source": [
    "#### Step-2: Download datasets using Url "
   ]
  },
  {
   "cell_type": "code",
   "execution_count": 22,
   "id": "27de5d53-65f2-46d2-9b7d-b92fe8c15f5e",
   "metadata": {},
   "outputs": [],
   "source": [
    "\n",
    "# 1. Download the dataset\n",
    "url ='https://archive.ics.uci.edu/static/public/350/default+of+credit+card+clients.zip'\n",
    "dataset_zip = \"default_of_credit_card_clients.zip\"\n",
    "\n",
    "# Download the zip file\n",
    "response = requests.get(url)\n",
    "with open(dataset_zip, \"wb\") as file:\n",
    "    file.write(response.content)\n",
    "\n",
    "# 2. Extract the dataset\n",
    "with zipfile.ZipFile(dataset_zip, 'r') as zip_ref:\n",
    "    zip_ref.extractall(\"default_of_credit_card_clients\")\n"
   ]
  },
  {
   "cell_type": "code",
   "execution_count": 61,
   "id": "06f52a48-8d4b-4533-b319-09c8d820a01e",
   "metadata": {},
   "outputs": [
    {
     "name": "stdout",
     "output_type": "stream",
     "text": [
      "default_of_credit_card_clients/default of credit card clients.xls\n"
     ]
    }
   ],
   "source": [
    "extract_folder = \"default_of_credit_card_clients/default of credit card clients.xls\"\n",
    "print(extract_folder)"
   ]
  },
  {
   "cell_type": "code",
   "execution_count": 63,
   "id": "eb87091e-8aab-4cdd-98ff-757ea2b481bc",
   "metadata": {},
   "outputs": [
    {
     "ename": "ModuleNotFoundError",
     "evalue": "No module named 'xlrd'",
     "output_type": "error",
     "traceback": [
      "\u001b[1;31m---------------------------------------------------------------------------\u001b[0m",
      "\u001b[1;31mModuleNotFoundError\u001b[0m                       Traceback (most recent call last)",
      "Cell \u001b[1;32mIn[63], line 1\u001b[0m\n\u001b[1;32m----> 1\u001b[0m \u001b[38;5;28;01mimport\u001b[39;00m\u001b[38;5;250m \u001b[39m\u001b[38;5;21;01mxlrd\u001b[39;00m\n\u001b[0;32m      3\u001b[0m \u001b[38;5;66;03m# Path to the XLS file\u001b[39;00m\n\u001b[0;32m      4\u001b[0m xls_file \u001b[38;5;241m=\u001b[39m \u001b[38;5;124m\"\u001b[39m\u001b[38;5;124mdefault_of_credit_card_clients/default of credit card clients.xls\u001b[39m\u001b[38;5;124m\"\u001b[39m\n",
      "\u001b[1;31mModuleNotFoundError\u001b[0m: No module named 'xlrd'"
     ]
    }
   ],
   "source": [
    "# Path to the XLS file\n",
    "xls_file = \"default_of_credit_card_clients/default of credit card clients.xls\"\n",
    "\n",
    "# Load the XLS file into a DataFrame\n",
    "df = pd.read_excel(xls_file, header=1)  # Skip the first row with general info\n",
    "\n",
    "# Specify the output CSV file path\n",
    "csv_file = \"default_of_credit_card_clients/default_of_credit_card_clients.csv\"\n",
    "\n",
    "# Save the DataFrame to CSV\n",
    "df.to_csv(csv_file, index=False)"
   ]
  },
  {
   "cell_type": "code",
   "execution_count": 60,
   "id": "fca525e8-4c7a-439a-8ace-a6d7d538afea",
   "metadata": {},
   "outputs": [
    {
     "name": "stdout",
     "output_type": "stream",
     "text": [
      "Requirement already satisfied: openpyxl in c:\\users\\acer\\anaconda3\\lib\\site-packages (3.1.5)\n",
      "Requirement already satisfied: et-xmlfile in c:\\users\\acer\\anaconda3\\lib\\site-packages (from openpyxl) (1.1.0)\n"
     ]
    }
   ],
   "source": [
    "!pip install openpyxl"
   ]
  },
  {
   "cell_type": "code",
   "execution_count": null,
   "id": "5823117f-907e-41be-9b20-884f8227563a",
   "metadata": {},
   "outputs": [],
   "source": []
  },
  {
   "cell_type": "code",
   "execution_count": null,
   "id": "e0f8b8e6-1719-46b8-a507-3ead3b3f4601",
   "metadata": {},
   "outputs": [],
   "source": []
  },
  {
   "cell_type": "code",
   "execution_count": null,
   "id": "86760986-5749-4fd8-a8f9-52b97bcd4a4c",
   "metadata": {},
   "outputs": [],
   "source": []
  }
 ],
 "metadata": {
  "kernelspec": {
   "display_name": "Python 3 (ipykernel)",
   "language": "python",
   "name": "python3"
  },
  "language_info": {
   "codemirror_mode": {
    "name": "ipython",
    "version": 3
   },
   "file_extension": ".py",
   "mimetype": "text/x-python",
   "name": "python",
   "nbconvert_exporter": "python",
   "pygments_lexer": "ipython3",
   "version": "3.12.7"
  }
 },
 "nbformat": 4,
 "nbformat_minor": 5
}
